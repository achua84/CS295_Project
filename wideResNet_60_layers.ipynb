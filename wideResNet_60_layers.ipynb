{
  "nbformat": 4,
  "nbformat_minor": 0,
  "metadata": {
    "colab": {
      "name": "wideResNet_60_layers.ipynb",
      "provenance": [],
      "collapsed_sections": []
    },
    "kernelspec": {
      "name": "python3",
      "display_name": "Python 3"
    },
    "language_info": {
      "name": "python"
    },
    "accelerator": "GPU"
  },
  "cells": [
    {
      "cell_type": "code",
      "source": [
        "pip install tensorboard_logger"
      ],
      "metadata": {
        "colab": {
          "base_uri": "https://localhost:8080/"
        },
        "id": "AApwC5frE3cs",
        "outputId": "327ac388-1fec-4d2b-fd2c-6ae92f7396a1"
      },
      "execution_count": null,
      "outputs": [
        {
          "output_type": "stream",
          "name": "stdout",
          "text": [
            "Looking in indexes: https://pypi.org/simple, https://us-python.pkg.dev/colab-wheels/public/simple/\n",
            "Collecting tensorboard_logger\n",
            "  Downloading tensorboard_logger-0.1.0-py2.py3-none-any.whl (17 kB)\n",
            "Requirement already satisfied: protobuf in /usr/local/lib/python3.7/dist-packages (from tensorboard_logger) (3.17.3)\n",
            "Requirement already satisfied: scipy>=0.19.1 in /usr/local/lib/python3.7/dist-packages (from tensorboard_logger) (1.4.1)\n",
            "Requirement already satisfied: six in /usr/local/lib/python3.7/dist-packages (from tensorboard_logger) (1.15.0)\n",
            "Requirement already satisfied: numpy in /usr/local/lib/python3.7/dist-packages (from tensorboard_logger) (1.21.6)\n",
            "Requirement already satisfied: pillow>=4.1.1 in /usr/local/lib/python3.7/dist-packages (from tensorboard_logger) (7.1.2)\n",
            "Installing collected packages: tensorboard-logger\n",
            "Successfully installed tensorboard-logger-0.1.0\n"
          ]
        }
      ]
    },
    {
      "cell_type": "code",
      "source": [
        "from google.colab import drive\n",
        "drive.mount('/content/drive', force_remount=True)"
      ],
      "metadata": {
        "colab": {
          "base_uri": "https://localhost:8080/"
        },
        "id": "japf0HnfrrLF",
        "outputId": "d4c12529-3f25-48ef-e8d5-75fe9644b62b"
      },
      "execution_count": null,
      "outputs": [
        {
          "output_type": "stream",
          "name": "stdout",
          "text": [
            "Mounted at /content/drive\n"
          ]
        }
      ]
    },
    {
      "cell_type": "code",
      "source": [
        "!curl https://colab.chainer.org/install | sh -\n",
        "!pip install cucim\n",
        "!pip install scipy scikit-image cupy-cuda100==9.6.0"
      ],
      "metadata": {
        "colab": {
          "base_uri": "https://localhost:8080/"
        },
        "id": "EgJgqVguiiPF",
        "outputId": "3415a059-ce50-45b9-add9-eae577c6e642"
      },
      "execution_count": null,
      "outputs": [
        {
          "output_type": "stream",
          "name": "stdout",
          "text": [
            "  % Total    % Received % Xferd  Average Speed   Time    Time     Time  Current\n",
            "                                 Dload  Upload   Total   Spent    Left  Speed\n",
            "\r  0     0    0     0    0     0      0      0 --:--:-- --:--:-- --:--:--     0\r100  1580  100  1580    0     0   9028      0 --:--:-- --:--:-- --:--:--  9028\n",
            "+ apt -y -q install cuda-libraries-dev-10-0\n",
            "Reading package lists...\n",
            "Building dependency tree...\n",
            "Reading state information...\n",
            "cuda-libraries-dev-10-0 is already the newest version (10.0.130-1).\n",
            "The following package was automatically installed and is no longer required:\n",
            "  libnvidia-common-460\n",
            "Use 'apt autoremove' to remove it.\n",
            "0 upgraded, 0 newly installed, 0 to remove and 42 not upgraded.\n",
            "+ pip install -q cupy-cuda100  chainer \n",
            "\u001b[K     |████████████████████████████████| 58.9 MB 1.2 MB/s \n",
            "\u001b[K     |████████████████████████████████| 1.0 MB 59.6 MB/s \n",
            "\u001b[?25h  Building wheel for chainer (setup.py) ... \u001b[?25l\u001b[?25hdone\n",
            "+ set +ex\n",
            "Installation succeeded!\n",
            "Looking in indexes: https://pypi.org/simple, https://us-python.pkg.dev/colab-wheels/public/simple/\n",
            "Collecting cucim\n",
            "  Downloading cucim-22.4.0-py3-none-manylinux2014_x86_64.whl (8.5 MB)\n",
            "\u001b[K     |████████████████████████████████| 8.5 MB 4.7 MB/s \n",
            "\u001b[?25hRequirement already satisfied: numpy in /usr/local/lib/python3.7/dist-packages (from cucim) (1.21.6)\n",
            "Requirement already satisfied: click in /usr/local/lib/python3.7/dist-packages (from cucim) (7.1.2)\n",
            "Installing collected packages: cucim\n",
            "Successfully installed cucim-22.4.0\n",
            "Looking in indexes: https://pypi.org/simple, https://us-python.pkg.dev/colab-wheels/public/simple/\n",
            "Requirement already satisfied: scipy in /usr/local/lib/python3.7/dist-packages (1.4.1)\n",
            "Requirement already satisfied: scikit-image in /usr/local/lib/python3.7/dist-packages (0.18.3)\n",
            "Requirement already satisfied: cupy-cuda100==9.6.0 in /usr/local/lib/python3.7/dist-packages (9.6.0)\n",
            "Requirement already satisfied: numpy<1.24,>=1.17 in /usr/local/lib/python3.7/dist-packages (from cupy-cuda100==9.6.0) (1.21.6)\n",
            "Requirement already satisfied: fastrlock>=0.5 in /usr/local/lib/python3.7/dist-packages (from cupy-cuda100==9.6.0) (0.8)\n",
            "Requirement already satisfied: pillow!=7.1.0,!=7.1.1,>=4.3.0 in /usr/local/lib/python3.7/dist-packages (from scikit-image) (7.1.2)\n",
            "Requirement already satisfied: PyWavelets>=1.1.1 in /usr/local/lib/python3.7/dist-packages (from scikit-image) (1.3.0)\n",
            "Requirement already satisfied: matplotlib!=3.0.0,>=2.0.0 in /usr/local/lib/python3.7/dist-packages (from scikit-image) (3.2.2)\n",
            "Requirement already satisfied: imageio>=2.3.0 in /usr/local/lib/python3.7/dist-packages (from scikit-image) (2.4.1)\n",
            "Requirement already satisfied: tifffile>=2019.7.26 in /usr/local/lib/python3.7/dist-packages (from scikit-image) (2021.11.2)\n",
            "Requirement already satisfied: networkx>=2.0 in /usr/local/lib/python3.7/dist-packages (from scikit-image) (2.6.3)\n",
            "Requirement already satisfied: pyparsing!=2.0.4,!=2.1.2,!=2.1.6,>=2.0.1 in /usr/local/lib/python3.7/dist-packages (from matplotlib!=3.0.0,>=2.0.0->scikit-image) (3.0.9)\n",
            "Requirement already satisfied: cycler>=0.10 in /usr/local/lib/python3.7/dist-packages (from matplotlib!=3.0.0,>=2.0.0->scikit-image) (0.11.0)\n",
            "Requirement already satisfied: kiwisolver>=1.0.1 in /usr/local/lib/python3.7/dist-packages (from matplotlib!=3.0.0,>=2.0.0->scikit-image) (1.4.2)\n",
            "Requirement already satisfied: python-dateutil>=2.1 in /usr/local/lib/python3.7/dist-packages (from matplotlib!=3.0.0,>=2.0.0->scikit-image) (2.8.2)\n",
            "Requirement already satisfied: typing-extensions in /usr/local/lib/python3.7/dist-packages (from kiwisolver>=1.0.1->matplotlib!=3.0.0,>=2.0.0->scikit-image) (4.2.0)\n",
            "Requirement already satisfied: six>=1.5 in /usr/local/lib/python3.7/dist-packages (from python-dateutil>=2.1->matplotlib!=3.0.0,>=2.0.0->scikit-image) (1.15.0)\n"
          ]
        }
      ]
    },
    {
      "cell_type": "code",
      "source": [
        "!python pretrained_model.py --layers 28 --widen-factor 10"
      ],
      "metadata": {
        "colab": {
          "base_uri": "https://localhost:8080/"
        },
        "id": "oFq5fX8NXpxx",
        "outputId": "c8840c6a-d3d8-4a9f-af99-d48f480c6156"
      },
      "execution_count": null,
      "outputs": [
        {
          "output_type": "stream",
          "name": "stdout",
          "text": [
            "Files already downloaded and verified\n",
            "=> loading best model weights 'drive/MyDrive/runs/1WideResNet-28-10/model_best.pth.tar'\n",
            "=> loaded best model weights\n",
            "[16, 16, 16, 160, 160, 160, 160, 160, 160, 160, 160, 160, 160, 160, 160, 160, 160, 160, 160, 160, 160, 160, 160, 160, 160, 160, 320, 320, 320, 320, 320, 320, 320, 320, 320, 320, 320, 320, 320, 320, 320, 320, 320, 320, 320, 320, 320, 320, 320, 640, 640, 640, 640, 640, 640, 640, 640, 640, 640, 640, 640, 640, 640, 640, 640, 640, 640, 640, 640, 640, 640]\n",
            "71\n",
            "Files already downloaded and verified\n",
            "Creating class_descriptors\n",
            "0\n",
            "200\n",
            "400\n",
            "600\n",
            "800\n",
            "1000\n",
            "1200\n",
            "1400\n",
            "1600\n",
            "1800\n",
            "2000\n",
            "2200\n",
            "2400\n",
            "2600\n",
            "2800\n",
            "3000\n",
            "3200\n",
            "3400\n",
            "3600\n",
            "3800\n",
            "4000\n",
            "4200\n",
            "4400\n",
            "4600\n",
            "4800\n",
            "5000\n",
            "5200\n",
            "5400\n",
            "5600\n",
            "5800\n",
            "6000\n",
            "6200\n",
            "6400\n",
            "6600\n",
            "6800\n",
            "7000\n",
            "7200\n",
            "7400\n",
            "7600\n",
            "7800\n",
            "8000\n",
            "8200\n",
            "8400\n",
            "8600\n",
            "8800\n",
            "9000\n",
            "9200\n",
            "9400\n",
            "9600\n",
            "9800\n",
            "10000\n",
            "10200\n",
            "10400\n",
            "10600\n",
            "10800\n",
            "11000\n",
            "11200\n",
            "11400\n",
            "11600\n",
            "11800\n",
            "12000\n",
            "12200\n",
            "12400\n",
            "12600\n",
            "12800\n",
            "13000\n",
            "13200\n",
            "13400\n",
            "13600\n",
            "13800\n",
            "14000\n",
            "14200\n",
            "14400\n",
            "14600\n",
            "14800\n",
            "15000\n",
            "15200\n",
            "15400\n",
            "15600\n",
            "15800\n",
            "16000\n",
            "16200\n",
            "16400\n",
            "16600\n",
            "16800\n",
            "17000\n",
            "17200\n",
            "17400\n",
            "17600\n",
            "17800\n",
            "18000\n",
            "18200\n",
            "18400\n",
            "18600\n",
            "18800\n",
            "19000\n",
            "19200\n",
            "19400\n",
            "19600\n",
            "19800\n",
            "20000\n",
            "20200\n",
            "20400\n",
            "20600\n",
            "20800\n",
            "21000\n",
            "21200\n",
            "21400\n",
            "21600\n",
            "21800\n",
            "22000\n",
            "22200\n",
            "22400\n",
            "22600\n",
            "22800\n",
            "23000\n",
            "23200\n",
            "23400\n",
            "23600\n",
            "23800\n",
            "24000\n",
            "24200\n",
            "24400\n",
            "24600\n",
            "24800\n",
            "25000\n",
            "25200\n",
            "25400\n",
            "25600\n",
            "25800\n",
            "26000\n",
            "26200\n",
            "26400\n",
            "26600\n",
            "26800\n",
            "27000\n",
            "27200\n",
            "27400\n",
            "27600\n",
            "27800\n",
            "28000\n",
            "28200\n",
            "28400\n",
            "28600\n",
            "28800\n",
            "29000\n",
            "29200\n",
            "29400\n",
            "29600\n",
            "29800\n",
            "30000\n",
            "30200\n",
            "30400\n",
            "30600\n",
            "30800\n",
            "31000\n",
            "31200\n",
            "31400\n",
            "31600\n",
            "31800\n",
            "32000\n",
            "32200\n",
            "32400\n",
            "32600\n",
            "32800\n",
            "33000\n",
            "33200\n",
            "33400\n",
            "33600\n",
            "33800\n",
            "34000\n",
            "34200\n",
            "34400\n",
            "34600\n",
            "34800\n",
            "35000\n",
            "35200\n",
            "35400\n",
            "35600\n",
            "35800\n",
            "36000\n",
            "36200\n",
            "36400\n",
            "36600\n",
            "36800\n",
            "37000\n",
            "37200\n",
            "37400\n",
            "37600\n",
            "37800\n",
            "38000\n",
            "38200\n",
            "38400\n",
            "38600\n",
            "38800\n",
            "39000\n",
            "39200\n",
            "39400\n",
            "39600\n",
            "39800\n",
            "40000\n",
            "40200\n",
            "40400\n",
            "40600\n",
            "40800\n",
            "41000\n",
            "41200\n",
            "41400\n",
            "41600\n",
            "41800\n",
            "42000\n",
            "42200\n",
            "42400\n",
            "42600\n",
            "42800\n",
            "43000\n",
            "43200\n",
            "43400\n",
            "43600\n",
            "43800\n",
            "44000\n",
            "44200\n",
            "44400\n",
            "44600\n",
            "44800\n",
            "45000\n",
            "45200\n",
            "45400\n",
            "45600\n",
            "45800\n",
            "46000\n",
            "46200\n",
            "46400\n",
            "46600\n",
            "46800\n",
            "47000\n",
            "47200\n",
            "47400\n",
            "47600\n",
            "47800\n",
            "48000\n",
            "48200\n",
            "48400\n",
            "48600\n",
            "48800\n",
            "49000\n",
            "49200\n",
            "49400\n",
            "49600\n",
            "49800\n",
            "Creating ID encodings\n",
            "0\n",
            "200\n",
            "400\n",
            "600\n",
            "800\n",
            "1000\n",
            "1200\n",
            "1400\n",
            "1600\n",
            "1800\n",
            "Downloading https://www.cs.toronto.edu/~kriz/cifar-100-python.tar.gz to ../data/cifar-100-python.tar.gz\n",
            "169001984it [00:12, 13163651.85it/s]                   \n",
            "Extracting ../data/cifar-100-python.tar.gz to ../data\n",
            "Creating Near_OOD encodings\n",
            "0\n",
            "200\n",
            "400\n",
            "600\n",
            "800\n",
            "Downloading http://yann.lecun.com/exdb/mnist/train-images-idx3-ubyte.gz\n",
            "Downloading http://yann.lecun.com/exdb/mnist/train-images-idx3-ubyte.gz to ../data/MNIST/raw/train-images-idx3-ubyte.gz\n",
            "9913344it [00:00, 108192245.86it/s]\n",
            "Extracting ../data/MNIST/raw/train-images-idx3-ubyte.gz to ../data/MNIST/raw\n",
            "\n",
            "Downloading http://yann.lecun.com/exdb/mnist/train-labels-idx1-ubyte.gz\n",
            "Downloading http://yann.lecun.com/exdb/mnist/train-labels-idx1-ubyte.gz to ../data/MNIST/raw/train-labels-idx1-ubyte.gz\n",
            "29696it [00:00, 100690421.65it/s]\n",
            "Extracting ../data/MNIST/raw/train-labels-idx1-ubyte.gz to ../data/MNIST/raw\n",
            "\n",
            "Downloading http://yann.lecun.com/exdb/mnist/t10k-images-idx3-ubyte.gz\n",
            "Downloading http://yann.lecun.com/exdb/mnist/t10k-images-idx3-ubyte.gz to ../data/MNIST/raw/t10k-images-idx3-ubyte.gz\n",
            "1649664it [00:00, 117038385.53it/s]\n",
            "Extracting ../data/MNIST/raw/t10k-images-idx3-ubyte.gz to ../data/MNIST/raw\n",
            "\n",
            "Downloading http://yann.lecun.com/exdb/mnist/t10k-labels-idx1-ubyte.gz\n",
            "Downloading http://yann.lecun.com/exdb/mnist/t10k-labels-idx1-ubyte.gz to ../data/MNIST/raw/t10k-labels-idx1-ubyte.gz\n",
            "5120it [00:00, 31909118.10it/s]\n",
            "Extracting ../data/MNIST/raw/t10k-labels-idx1-ubyte.gz to ../data/MNIST/raw\n",
            "\n",
            "Creating Far_OOD encodings\n",
            "0\n",
            "200\n",
            "400\n",
            "600\n",
            "800\n",
            "5   1\n",
            "9   1\n",
            "7   1\n",
            "6   1\n",
            "3   1\n",
            "4   1\n",
            "2   1\n",
            "8   1\n",
            "0   1\n",
            "1   1\n",
            "\n",
            "4   208\n",
            "2   194\n",
            "1   185\n",
            "7   203\n",
            "8   208\n",
            "9   190\n",
            "6   202\n",
            "5   219\n",
            "0   209\n",
            "3   182\n",
            "\n",
            "3   100\n",
            "5   100\n",
            "8   100\n",
            "2   100\n",
            "0   100\n",
            "7   100\n",
            "6   100\n",
            "9   100\n",
            "1   100\n",
            "4   100\n",
            "\n",
            "5   87\n",
            "9   119\n",
            "0   75\n",
            "8   105\n",
            "4   114\n",
            "7   99\n",
            "2   101\n",
            "1   101\n",
            "6   95\n",
            "3   104\n",
            "\n"
          ]
        }
      ]
    },
    {
      "cell_type": "code",
      "source": [
        "!python get_encodings.py"
      ],
      "metadata": {
        "colab": {
          "base_uri": "https://localhost:8080/"
        },
        "id": "-OmPMEY5t3X4",
        "outputId": "40a80ad6-8ee3-401c-cabb-b893914e8f7d"
      },
      "execution_count": null,
      "outputs": [
        {
          "output_type": "stream",
          "name": "stdout",
          "text": [
            "yes\n",
            "3000\n",
            "3000\n",
            "<class 'tuple'>   10000   (array([[-0.67919954],\n",
            "       [ 0.6186695 ],\n",
            "       [-0.67105533],\n",
            "       ...,\n",
            "       [-0.20114191],\n",
            "       [-0.96586398],\n",
            "       [-0.1991657 ]]), 0)\n",
            "<class 'tuple'>   10000   (array([[-0.51388636],\n",
            "       [ 0.41503929],\n",
            "       [-0.54940542],\n",
            "       ...,\n",
            "       [-0.26807219],\n",
            "       [-0.86565011],\n",
            "       [-0.21391584]]), 0)\n",
            "<class 'tuple'>   10000   (array([[-0.67919954],\n",
            "       [ 0.6186695 ],\n",
            "       [-0.67105533],\n",
            "       ...,\n",
            "       [-0.20114191],\n",
            "       [-0.96586398],\n",
            "       [-0.1991657 ]]), 0)\n",
            "<class 'tuple'>   10000   (array([[-0.51388636],\n",
            "       [ 0.41503929],\n",
            "       [-0.54940542],\n",
            "       ...,\n",
            "       [-0.26807219],\n",
            "       [-0.86565011],\n",
            "       [-0.21391584]]), 0)\n"
          ]
        }
      ]
    },
    {
      "cell_type": "code",
      "source": [
        "import get_encodings"
      ],
      "metadata": {
        "id": "vLccR6EkJeYC",
        "colab": {
          "base_uri": "https://localhost:8080/"
        },
        "outputId": "f3821fa3-dd7c-49bd-f328-fe7fc7b1564d"
      },
      "execution_count": null,
      "outputs": [
        {
          "output_type": "stream",
          "name": "stdout",
          "text": [
            "3000\n",
            "3000\n",
            "<class 'tuple'>   10000   (array([[-0.02400178],\n",
            "       [-0.96714272],\n",
            "       [ 0.43035376],\n",
            "       ...,\n",
            "       [-0.85814836],\n",
            "       [-0.62766638],\n",
            "       [ 0.97497372]]), 0)\n",
            "<class 'tuple'>   10000   (array([[ 0.11096486],\n",
            "       [-1.60738897],\n",
            "       [ 0.43303019],\n",
            "       ...,\n",
            "       [-1.28099219],\n",
            "       [-0.88424054],\n",
            "       [ 0.74407752]]), 0)\n",
            "<class 'tuple'>   10000   (array([[-0.02400178],\n",
            "       [-0.96714272],\n",
            "       [ 0.43035376],\n",
            "       ...,\n",
            "       [-0.85814836],\n",
            "       [-0.62766638],\n",
            "       [ 0.97497372]]), 0)\n",
            "<class 'tuple'>   10000   (array([[ 0.11096486],\n",
            "       [-1.60738897],\n",
            "       [ 0.43303019],\n",
            "       ...,\n",
            "       [-1.28099219],\n",
            "       [-0.88424054],\n",
            "       [ 0.74407752]]), 0)\n"
          ]
        }
      ]
    },
    {
      "cell_type": "code",
      "source": [
        "import matplotlib.pyplot as plt\n",
        "import seaborn as sns\n",
        "import numpy as np\n",
        "import math\n",
        "def OOD_detector(image_encoding, class_descriptors, theta_s):\n",
        "    arccos_list = []\n",
        "    for k, v in class_descriptors.items():\n",
        "        if len(v) == 0:\n",
        "            continue\n",
        "        class_hv = v[0]\n",
        "        dot_prod = np.dot(np.transpose(class_hv), image_encoding)\n",
        "        arc_theta = dot_prod / (np.linalg.norm(class_hv)*np.linalg.norm(image_encoding))\n",
        "        # print(arc_theta)\n",
        "        arccos_list.append([k, arc_theta])\n",
        "        arccos_list = sorted(arccos_list, key=lambda x:x[0])\n",
        "    theta = list(map(lambda x: np.arccos(x[1])*(180/math.pi), arccos_list))\n",
        "    closest_class = min(theta)\n",
        "    result = 1 if closest_class > theta_s else 0\n",
        "    closest_deg = round(closest_class[0][0])\n",
        "    return result, closest_deg"
      ],
      "metadata": {
        "id": "s4Pdwl1kFZHb"
      },
      "execution_count": null,
      "outputs": []
    },
    {
      "cell_type": "code",
      "source": [
        "# results for far ood detection (MNIST)\n",
        "def far_ood_results(theta_s):\n",
        "    far_ood_res = []\n",
        "    for e in get_encodings.far_ID_merge:\n",
        "        image_encoding =  e[0]\n",
        "        label = e[1]\n",
        "        ood_pred, _ = OOD_detector(image_encoding, get_encodings.class_descriptors, theta_s)\n",
        "        far_ood_res.append((ood_pred, label))\n",
        "    return far_ood_res\n"
      ],
      "metadata": {
        "id": "jIdhauwcFmuX"
      },
      "execution_count": null,
      "outputs": []
    },
    {
      "cell_type": "code",
      "source": [
        "# results for near ood detection (CIFAR100)\n",
        "    \n",
        "def near_ood_results(theta_s):\n",
        "    near_ood_res = []\n",
        "    for e in get_encodings.near_ID_merge:\n",
        "        image_encoding =  e[0]\n",
        "        label = e[1]\n",
        "        ood_pred, _ = OOD_detector(image_encoding, get_encodings.class_descriptors, theta_s)\n",
        "        near_ood_res.append((ood_pred, label))\n",
        "    return near_ood_res"
      ],
      "metadata": {
        "id": "ZgwSnadAFvk8"
      },
      "execution_count": null,
      "outputs": []
    },
    {
      "cell_type": "code",
      "source": [
        "def F1_score(results):\n",
        "    TP = 0\n",
        "    TN = 0\n",
        "    FP = 0\n",
        "    FN = 0\n",
        "    for e in results:\n",
        "        pred = e[0]\n",
        "        y = e[1]\n",
        "        if pred == y:\n",
        "            if pred == 1:\n",
        "                TP += 1\n",
        "            else:\n",
        "                TN += 1\n",
        "        else:\n",
        "            if pred == 1:\n",
        "                FP += 1\n",
        "            else:\n",
        "                FN += 1\n",
        "    f1_score = TP/(TP + (0.5)*(FP + FN))\n",
        "    \n",
        "    return f1_score"
      ],
      "metadata": {
        "id": "-is9mSRoFzGV"
      },
      "execution_count": null,
      "outputs": []
    },
    {
      "cell_type": "code",
      "source": [
        "#  F1 scores for theta_s between 10 and 50 degrees\n",
        "from tqdm import tqdm\n",
        "near_ood_f1 = []\n",
        "far_ood_f1 = []\n",
        "for theta_s in tqdm(range(10, 55, 1)):\n",
        "    near_res_list = near_ood_results(theta_s)\n",
        "    far_res_list = far_ood_results(theta_s)\n",
        "    near_ood_f1.append(F1_score(near_res_list))\n",
        "    far_ood_f1.append(F1_score(far_res_list))"
      ],
      "metadata": {
        "id": "xTB4GzmPF1J9",
        "colab": {
          "base_uri": "https://localhost:8080/"
        },
        "outputId": "19933745-89a6-415e-e202-82ec75eba053"
      },
      "execution_count": null,
      "outputs": [
        {
          "output_type": "stream",
          "name": "stderr",
          "text": [
            "100%|██████████| 45/45 [01:12<00:00,  1.60s/it]\n"
          ]
        }
      ]
    },
    {
      "cell_type": "code",
      "source": [
        "plt.plot(near_ood_f1, label='near OOD')\n",
        "plt.plot(far_ood_f1, label='far OOD')\n",
        "plt.legend()"
      ],
      "metadata": {
        "id": "LdP6jxakF2ey",
        "colab": {
          "base_uri": "https://localhost:8080/",
          "height": 283
        },
        "outputId": "8676822e-321c-4354-bfc4-e84b8414f615"
      },
      "execution_count": null,
      "outputs": [
        {
          "output_type": "execute_result",
          "data": {
            "text/plain": [
              "<matplotlib.legend.Legend at 0x7f665bc9e190>"
            ]
          },
          "metadata": {},
          "execution_count": 16
        },
        {
          "output_type": "display_data",
          "data": {
            "text/plain": [
              "<Figure size 432x288 with 1 Axes>"
            ],
            "image/png": "[encoded data removed]"
          },
          "metadata": {
            "needs_background": "light"
          }
        }
      ]
    },
    {
      "cell_type": "code",
      "source": [
        "# KDE plot\n",
        "near_ood_degs = []\n",
        "far_ood_degs = []\n",
        "for e in get_encodings.near_list:\n",
        "    image_encoding =  e[0]\n",
        "    _, closest_deg = OOD_detector(image_encoding, get_encodings.class_descriptors, 0)\n",
        "    near_ood_degs.append(closest_deg)\n",
        "for e in get_encodings.far_list:\n",
        "    image_encoding =  e[0]\n",
        "    _, closest_deg = OOD_detector(image_encoding, get_encodings.class_descriptors, 0)\n",
        "    far_ood_degs.append(closest_deg)\n"
      ],
      "metadata": {
        "id": "gmKbWoBsF5N7"
      },
      "execution_count": null,
      "outputs": []
    },
    {
      "cell_type": "code",
      "source": [
        "def bucket_sort_degs(degs_list):\n",
        "    buckets = {}\n",
        "    for d in degs_list:\n",
        "        if d in buckets.keys():\n",
        "            buckets[d] += 1\n",
        "        else:\n",
        "            buckets[d] = 1\n",
        "    return buckets"
      ],
      "metadata": {
        "id": "sMPrkMudF850"
      },
      "execution_count": null,
      "outputs": []
    },
    {
      "cell_type": "code",
      "source": [
        "import matplotlib.pyplot as plt\n",
        "import seaborn as sns\n",
        "import numpy as np\n",
        "\n",
        "near_x = sorted(near_ood_buckets.keys())\n",
        "near_y = sorted(near_ood_buckets.values())\n",
        "\n",
        "far_x = sorted(far_ood_buckets.keys())\n",
        "far_y = sorted(far_ood_buckets.values())\n",
        "\n",
        "fig, ax = plt.subplots(figsize=(12, 6))\n",
        "sns.kdeplot(data=near_y, x=near_x,\n",
        "            color='crimson', label='near_ood', fill=True, ax=ax)\n",
        "sns.kdeplot(data=far_y, x=far_x,\n",
        "            color='limegreen', label='far_ood', fill=True, ax=ax)\n",
        "ax.legend()\n",
        "plt.tight_layout()\n",
        "plt.show()"
      ],
      "metadata": {
        "id": "X6nFLrBHF_ec",
        "colab": {
          "base_uri": "https://localhost:8080/",
          "height": 328
        },
        "outputId": "63d43f78-f934-48b9-dbc3-7727d8cb134c"
      },
      "execution_count": null,
      "outputs": [
        {
          "output_type": "display_data",
          "data": {
            "text/plain": [
              "<Figure size 864x432 with 1 Axes>"
            ],
            "image/png": "[encoded data removed]"
          },
          "metadata": {
            "needs_background": "light"
          }
        }
      ]
    },
    {
      "cell_type": "code",
      "source": [
        "def FP_TP(results):\n",
        "    TP = 0\n",
        "    TN = 0\n",
        "    FP = 0\n",
        "    FN = 0\n",
        "    for e in results:\n",
        "        pred = e[0]\n",
        "        y = e[1]\n",
        "        if pred == y:\n",
        "            if pred == 1:\n",
        "                TP += 1\n",
        "            else:\n",
        "                TN += 1\n",
        "        else:\n",
        "            if pred == 1:\n",
        "                FP += 1\n",
        "            else:\n",
        "                FN += 1\n",
        "    tpr = TP/(TP+FN)\n",
        "    fpr = FP/(FP+TN)\n",
        "    return fpr, tpr"
      ],
      "metadata": {
        "id": "uOZ0buv6GAvF"
      },
      "execution_count": null,
      "outputs": []
    },
    {
      "cell_type": "code",
      "source": [
        "# AUROC approximation\n",
        "from tqdm import tqdm\n",
        "near_TP_FP_list = []\n",
        "far_TP_FP_list = []\n",
        "for theta_s in tqdm(range(1, 90, 1)):\n",
        "    near_res_list = near_ood_results(theta_s)\n",
        "    far_res_list = far_ood_results(theta_s)\n",
        "    near_TP_FP_list.append(FP_TP(near_res_list))\n",
        "    far_TP_FP_list.append(FP_TP(far_res_list))"
      ],
      "metadata": {
        "id": "Fd5xvE2RGCGU",
        "colab": {
          "base_uri": "https://localhost:8080/"
        },
        "outputId": "5cf88c8b-5c93-486f-de3e-5ad11a252c9b"
      },
      "execution_count": null,
      "outputs": [
        {
          "output_type": "stream",
          "name": "stderr",
          "text": [
            "100%|██████████| 89/89 [02:23<00:00,  1.61s/it]\n"
          ]
        }
      ]
    },
    {
      "cell_type": "code",
      "source": [
        "def calc_auc_area(fpr_tpr_list):\n",
        "    total_area = 0\n",
        "    for i in range(len(fpr_tpr_list)-1):\n",
        "        fpr_0 = fpr_tpr_list[i][0]\n",
        "        tpr_0 = fpr_tpr_list[i][1]\n",
        "        \n",
        "        fpr_1 = fpr_tpr_list[i+1][0]\n",
        "        tpr_1 = fpr_tpr_list[i+1][1]\n",
        "        \n",
        "        if fpr_0 == fpr_1:\n",
        "            continue\n",
        "        else:\n",
        "            a = (fpr_0 - fpr_1)*(0.5)*(tpr_0 + tpr_1)\n",
        "            total_area += a\n",
        "    return total_area"
      ],
      "metadata": {
        "id": "GeXH2vsYGEdU"
      },
      "execution_count": null,
      "outputs": []
    },
    {
      "cell_type": "code",
      "source": [
        "calc_auc_area(near_TP_FP_list[5:33])"
      ],
      "metadata": {
        "id": "YCFCgx3ZGFnB",
        "colab": {
          "base_uri": "https://localhost:8080/"
        },
        "outputId": "03c750d6-50b0-4433-9165-22ccb69d26ec"
      },
      "execution_count": null,
      "outputs": [
        {
          "output_type": "execute_result",
          "data": {
            "text/plain": [
              "0.5987017499999998"
            ]
          },
          "metadata": {},
          "execution_count": 30
        }
      ]
    },
    {
      "cell_type": "code",
      "source": [
        "calc_auc_area(far_TP_FP_list[5:31])"
      ],
      "metadata": {
        "id": "CHrgVwL7GHCS",
        "colab": {
          "base_uri": "https://localhost:8080/"
        },
        "outputId": "17c93c95-a18c-467b-a311-f0be48182cac"
      },
      "execution_count": null,
      "outputs": [
        {
          "output_type": "execute_result",
          "data": {
            "text/plain": [
              "0.96604875"
            ]
          },
          "metadata": {},
          "execution_count": 28
        }
      ]
    }
  ]
}