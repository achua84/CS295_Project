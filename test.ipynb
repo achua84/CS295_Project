{
 "cells": [
  {
   "cell_type": "code",
   "execution_count": 1,
   "id": "4e920794-3179-4ab2-9913-8ae76f4e5911",
   "metadata": {},
   "outputs": [
    {
     "name": "stdout",
     "output_type": "stream",
     "text": [
      "3000\n",
      "3000\n",
      "<class 'tuple'>   10000   (array([[-0.431468  ],\n",
      "       [ 0.529025  ],\n",
      "       [-0.59223993],\n",
      "       ...,\n",
      "       [-0.04699569],\n",
      "       [-0.95686334],\n",
      "       [-0.0596275 ]]), 1)\n",
      "<class 'tuple'>   10000   (array([[-0.47919601],\n",
      "       [ 0.48843984],\n",
      "       [-0.61794106],\n",
      "       ...,\n",
      "       [-0.19635084],\n",
      "       [-0.69450551],\n",
      "       [-0.07931382]]), 1)\n",
      "<class 'tuple'>   10000   (array([[-0.79484182],\n",
      "       [ 0.60530888],\n",
      "       [-0.82525546],\n",
      "       ...,\n",
      "       [-0.20424215],\n",
      "       [-1.08465727],\n",
      "       [-0.15625726]]), 1)\n",
      "<class 'tuple'>   10000   (array([[-0.61434766],\n",
      "       [ 0.51588961],\n",
      "       [-0.63647783],\n",
      "       ...,\n",
      "       [-0.11861566],\n",
      "       [-0.82374401],\n",
      "       [-0.18618892]]), 0)\n"
     ]
    }
   ],
   "source": [
    "import get_encodings"
   ]
  },
  {
   "cell_type": "code",
   "execution_count": 4,
   "id": "9e145144-befd-41e2-b524-d9485ddd519d",
   "metadata": {},
   "outputs": [
    {
     "data": {
      "text/plain": [
       "128"
      ]
     },
     "execution_count": 4,
     "metadata": {},
     "output_type": "execute_result"
    }
   ],
   "source": [
    "len(get_encodings.far_OOD_encodings[2])"
   ]
  },
  {
   "cell_type": "code",
   "execution_count": 5,
   "id": "05093b0a-5ab8-4159-9a0b-96b575719f62",
   "metadata": {},
   "outputs": [
    {
     "data": {
      "text/plain": [
       "10000"
      ]
     },
     "execution_count": 5,
     "metadata": {},
     "output_type": "execute_result"
    }
   ],
   "source": [
    "len(get_encodings.ID_encodings[9][0])"
   ]
  },
  {
   "cell_type": "code",
   "execution_count": 6,
   "id": "6d78557e-df23-4432-a452-28ec361a67af",
   "metadata": {},
   "outputs": [
    {
     "data": {
      "text/plain": [
       "(array([[-0.45422179],\n",
       "        [ 0.52194927],\n",
       "        [-0.44254841],\n",
       "        ...,\n",
       "        [-0.20726757],\n",
       "        [-0.87160892],\n",
       "        [-0.12899512]]),\n",
       " 1)"
      ]
     },
     "execution_count": 6,
     "metadata": {},
     "output_type": "execute_result"
    }
   ],
   "source": [
    "get_encodings.near_ID_merge[0]"
   ]
  },
  {
   "cell_type": "code",
   "execution_count": 4,
   "id": "6234b0a9-df93-404e-8b5b-5b89b9f98b7b",
   "metadata": {},
   "outputs": [],
   "source": [
    "import numpy as np\n",
    "import math\n",
    "def OOD_detector(image_encoding, class_descriptors, theta_s):\n",
    "    arccos_list = []\n",
    "    for k, v in class_descriptors.items():\n",
    "        if len(v) == 0:\n",
    "            continue\n",
    "        class_hv = v[0]\n",
    "        dot_prod = np.dot(np.transpose(class_hv), image_encoding)\n",
    "        arc_theta = dot_prod / (np.linalg.norm(class_hv)*np.linalg.norm(image_encoding))\n",
    "        # print(arc_theta)\n",
    "        arccos_list.append([k, arc_theta])\n",
    "        arccos_list = sorted(arccos_list, key=lambda x:x[0])\n",
    "    theta = list(map(lambda x: np.arccos(x[1])*(180/math.pi), arccos_list))\n",
    "    closest_class = min(theta)\n",
    "    result = 1 if closest_class > theta_s else 0\n",
    "    closest_deg = round(closest_class[0][0])\n",
    "    return result, closest_deg"
   ]
  },
  {
   "cell_type": "code",
   "execution_count": null,
   "id": "c8b2b372-19fe-44e7-8795-2000f83925bb",
   "metadata": {},
   "outputs": [],
   "source": []
  },
  {
   "cell_type": "code",
   "execution_count": 5,
   "id": "1939d7b4-c217-411d-9c17-f8b1b1e50f93",
   "metadata": {},
   "outputs": [],
   "source": [
    "x = OOD_detector(get_encodings.near_ID_merge[0][0], get_encodings.class_descriptors, 0)"
   ]
  },
  {
   "cell_type": "code",
   "execution_count": 6,
   "id": "87190486-fb5e-4d0d-8407-1ebca7fe3ee7",
   "metadata": {},
   "outputs": [
    {
     "data": {
      "text/plain": [
       "(1, 17)"
      ]
     },
     "execution_count": 6,
     "metadata": {},
     "output_type": "execute_result"
    }
   ],
   "source": [
    "x"
   ]
  },
  {
   "cell_type": "code",
   "execution_count": 7,
   "id": "eca04f96-36c0-48bf-a6e1-8a1d8d085d20",
   "metadata": {},
   "outputs": [],
   "source": [
    "# results for far ood detection (MNIST)\n",
    "def far_ood_results(theta_s):\n",
    "    far_ood_res = []\n",
    "    for e in get_encodings.far_ID_merge:\n",
    "        image_encoding =  e[0]\n",
    "        label = e[1]\n",
    "        ood_pred, _ = OOD_detector(image_encoding, get_encodings.class_descriptors, theta_s)\n",
    "        far_ood_res.append((ood_pred, label))\n",
    "    return far_ood_res\n"
   ]
  },
  {
   "cell_type": "code",
   "execution_count": 8,
   "id": "0a039d6b-b95c-454b-8b49-8977448ccad9",
   "metadata": {},
   "outputs": [
    {
     "data": {
      "text/plain": [
       "(1, 1)"
      ]
     },
     "execution_count": 8,
     "metadata": {},
     "output_type": "execute_result"
    }
   ],
   "source": [
    "far_ood_results(15)[0]"
   ]
  },
  {
   "cell_type": "code",
   "execution_count": 9,
   "id": "ed0c2b02-8f25-4988-af7e-7d1ce9dcc119",
   "metadata": {},
   "outputs": [],
   "source": [
    "# results for near ood detection (CIFAR100)\n",
    "    \n",
    "def near_ood_results(theta_s):\n",
    "    near_ood_res = []\n",
    "    for e in get_encodings.near_ID_merge:\n",
    "        image_encoding =  e[0]\n",
    "        label = e[1]\n",
    "        ood_pred, _ = OOD_detector(image_encoding, get_encodings.class_descriptors, theta_s)\n",
    "        near_ood_res.append((ood_pred, label))\n",
    "    return near_ood_res"
   ]
  },
  {
   "cell_type": "code",
   "execution_count": 10,
   "id": "23fa30c5-c572-47c7-bfe1-d043edbd9809",
   "metadata": {},
   "outputs": [
    {
     "data": {
      "text/plain": [
       "[(1, 1)]"
      ]
     },
     "execution_count": 10,
     "metadata": {},
     "output_type": "execute_result"
    }
   ],
   "source": [
    "near_ood_results(15)[:1]"
   ]
  },
  {
   "cell_type": "code",
   "execution_count": 11,
   "id": "33329f41-0108-4845-83c6-fd592645d1a5",
   "metadata": {},
   "outputs": [],
   "source": [
    "def F1_score(results):\n",
    "    TP = 0\n",
    "    TN = 0\n",
    "    FP = 0\n",
    "    FN = 0\n",
    "    for e in results:\n",
    "        pred = e[0]\n",
    "        y = e[1]\n",
    "        if pred == y:\n",
    "            if pred == 1:\n",
    "                TP += 1\n",
    "            else:\n",
    "                TN += 1\n",
    "        else:\n",
    "            if pred == 1:\n",
    "                FP += 1\n",
    "            else:\n",
    "                FN += 1\n",
    "    f1_score = TP/(TP + (0.5)*(FP + FN))\n",
    "    \n",
    "    return f1_score"
   ]
  },
  {
   "cell_type": "code",
   "execution_count": 58,
   "id": "c3f35469-2996-431d-9434-ed0d89b2dc1a",
   "metadata": {},
   "outputs": [
    {
     "name": "stderr",
     "output_type": "stream",
     "text": [
      "100%|██████████████████████████████████████████████████████████████████████████████████████████████████████████████████████████████████████| 45/45 [02:05<00:00,  2.78s/it]\n"
     ]
    }
   ],
   "source": [
    "#  F1 scores for theta_s between 10 and 50 degrees\n",
    "from tqdm import tqdm\n",
    "near_ood_f1 = []\n",
    "far_ood_f1 = []\n",
    "for theta_s in tqdm(range(10, 55, 1)):\n",
    "    near_res_list = near_ood_results(theta_s)\n",
    "    far_res_list = far_ood_results(theta_s)\n",
    "    near_ood_f1.append(F1_score(near_res_list))\n",
    "    far_ood_f1.append(F1_score(far_res_list))\n",
    "    "
   ]
  },
  {
   "cell_type": "code",
   "execution_count": null,
   "id": "d5a764a6-f4ec-420d-991e-bea3fb749712",
   "metadata": {},
   "outputs": [],
   "source": []
  },
  {
   "cell_type": "code",
   "execution_count": 60,
   "id": "19b8dad4-dfbf-479a-ab7e-f829eaa9ad22",
   "metadata": {},
   "outputs": [
    {
     "data": {
      "text/plain": [
       "<matplotlib.legend.Legend at 0x2ae26ab1130>"
      ]
     },
     "execution_count": 60,
     "metadata": {},
     "output_type": "execute_result"
    },
    {
     "data": {
      "image/png": "[encoded data removed]",
      "text/plain": [
       "<Figure size 432x288 with 1 Axes>"
      ]
     },
     "metadata": {
      "needs_background": "light"
     },
     "output_type": "display_data"
    }
   ],
   "source": [
    "plt.plot(near_ood_f1, label='near OOD')\n",
    "plt.plot(far_ood_f1, label='far OOD')\n",
    "plt.legend()"
   ]
  },
  {
   "cell_type": "code",
   "execution_count": 16,
   "id": "84186f15-9e5e-4991-aec7-0e4e332aba77",
   "metadata": {},
   "outputs": [],
   "source": [
    "# KDE plot\n",
    "near_ood_degs = []\n",
    "far_ood_degs = []\n",
    "for e in get_encodings.near_list:\n",
    "    image_encoding =  e[0]\n",
    "    _, closest_deg = OOD_detector(image_encoding, get_encodings.class_descriptors, 0)\n",
    "    near_ood_degs.append(closest_deg)\n",
    "for e in get_encodings.far_list:\n",
    "    image_encoding =  e[0]\n",
    "    _, closest_deg = OOD_detector(image_encoding, get_encodings.class_descriptors, 0)\n",
    "    far_ood_degs.append(closest_deg)"
   ]
  },
  {
   "cell_type": "code",
   "execution_count": 17,
   "id": "f0715530-1a88-4f17-884e-3a1c7125e1c2",
   "metadata": {},
   "outputs": [
    {
     "data": {
      "text/plain": [
       "[17, 14, 14, 13, 18, 22, 18, 16, 12, 23]"
      ]
     },
     "execution_count": 17,
     "metadata": {},
     "output_type": "execute_result"
    }
   ],
   "source": [
    "near_ood_degs[:10]"
   ]
  },
  {
   "cell_type": "code",
   "execution_count": 18,
   "id": "9c37eca9-11ef-4a28-8372-6787c0300057",
   "metadata": {},
   "outputs": [
    {
     "data": {
      "text/plain": [
       "[17, 15, 16, 15, 17, 16, 16, 15, 16, 16]"
      ]
     },
     "execution_count": 18,
     "metadata": {},
     "output_type": "execute_result"
    }
   ],
   "source": [
    "far_ood_degs[:10]"
   ]
  },
  {
   "cell_type": "code",
   "execution_count": 23,
   "id": "058f8c35-47ac-44e0-8837-35d237eede2a",
   "metadata": {},
   "outputs": [],
   "source": [
    "def bucket_sort_degs(degs_list):\n",
    "    buckets = {}\n",
    "    for d in degs_list:\n",
    "        if d in buckets.keys():\n",
    "            buckets[d] += 1\n",
    "        else:\n",
    "            buckets[d] = 1\n",
    "    return buckets"
   ]
  },
  {
   "cell_type": "code",
   "execution_count": 45,
   "id": "480f27e4-7bc2-4e11-9ee9-1bea525dead4",
   "metadata": {},
   "outputs": [],
   "source": [
    "near_ood_buckets = bucket_sort_degs(near_ood_degs)\n",
    "far_ood_buckets = bucket_sort_degs(far_ood_degs)"
   ]
  },
  {
   "cell_type": "code",
   "execution_count": 47,
   "id": "8b96e0cd-5c97-4cd3-b204-5a669666a613",
   "metadata": {},
   "outputs": [],
   "source": [
    "# sorted(near_ood_buckets.keys())"
   ]
  },
  {
   "cell_type": "code",
   "execution_count": null,
   "id": "2371570d-df4a-4d36-8c78-6676ac4ecb9f",
   "metadata": {},
   "outputs": [],
   "source": []
  },
  {
   "cell_type": "code",
   "execution_count": 49,
   "id": "c0492109-5cef-4011-88c9-b9e1aadbfa79",
   "metadata": {},
   "outputs": [
    {
     "data": {
      "image/png": "[encoded data removed]",
      "text/plain": [
       "<Figure size 864x432 with 1 Axes>"
      ]
     },
     "metadata": {
      "needs_background": "light"
     },
     "output_type": "display_data"
    }
   ],
   "source": [
    "import matplotlib.pyplot as plt\n",
    "import seaborn as sns\n",
    "import numpy as np\n",
    "\n",
    "near_x = sorted(near_ood_buckets.keys())\n",
    "near_y = sorted(near_ood_buckets.values())\n",
    "\n",
    "far_x = sorted(far_ood_buckets.keys())\n",
    "far_y = sorted(far_ood_buckets.values())\n",
    "\n",
    "fig, ax = plt.subplots(figsize=(12, 6))\n",
    "sns.kdeplot(data=near_y, x=near_x,\n",
    "            color='crimson', label='near_ood', fill=True, ax=ax)\n",
    "sns.kdeplot(data=far_y, x=far_x,\n",
    "            color='limegreen', label='far_ood', fill=True, ax=ax)\n",
    "ax.legend()\n",
    "plt.tight_layout()\n",
    "plt.show()"
   ]
  },
  {
   "cell_type": "code",
   "execution_count": 80,
   "id": "cb215514-cc59-4c8b-8a5e-3703fc36f1ed",
   "metadata": {},
   "outputs": [],
   "source": [
    "def FP_TP(results):\n",
    "    TP = 0\n",
    "    TN = 0\n",
    "    FP = 0\n",
    "    FN = 0\n",
    "    for e in results:\n",
    "        pred = e[0]\n",
    "        y = e[1]\n",
    "        if pred == y:\n",
    "            if pred == 1:\n",
    "                TP += 1\n",
    "            else:\n",
    "                TN += 1\n",
    "        else:\n",
    "            if pred == 1:\n",
    "                FP += 1\n",
    "            else:\n",
    "                FN += 1\n",
    "    tpr = TP/(TP+FN)\n",
    "    fpr = FP/(FP+TN)\n",
    "    return fpr, tpr"
   ]
  },
  {
   "cell_type": "code",
   "execution_count": 95,
   "id": "fc7bde1e-59c9-458c-9500-b07691d88c16",
   "metadata": {},
   "outputs": [
    {
     "name": "stderr",
     "output_type": "stream",
     "text": [
      "100%|██████████████████████████████████████████████████████████████████████████████████████████████████████████████████████████████████████| 89/89 [04:29<00:00,  3.03s/it]\n"
     ]
    }
   ],
   "source": [
    "# AUROC approximation\n",
    "from tqdm import tqdm\n",
    "near_TP_FP_list = []\n",
    "far_TP_FP_list = []\n",
    "for theta_s in tqdm(range(1, 90, 1)):\n",
    "    near_res_list = near_ood_results(theta_s)\n",
    "    far_res_list = far_ood_results(theta_s)\n",
    "    near_TP_FP_list.append(FP_TP(near_res_list))\n",
    "    far_TP_FP_list.append(FP_TP(far_res_list))\n"
   ]
  },
  {
   "cell_type": "code",
   "execution_count": 96,
   "id": "05d8ad20-cf82-44eb-b0be-cef22150131d",
   "metadata": {},
   "outputs": [
    {
     "data": {
      "text/plain": [
       "11.274000000000004"
      ]
     },
     "execution_count": 96,
     "metadata": {},
     "output_type": "execute_result"
    }
   ],
   "source": [
    "sum([i[0] for i in near_TP_FP_list])"
   ]
  },
  {
   "cell_type": "code",
   "execution_count": 97,
   "id": "1b300371-9bef-43b1-af6b-d65f82d51efb",
   "metadata": {},
   "outputs": [],
   "source": [
    "def calc_auc_area(fpr_tpr_list):\n",
    "    total_area = 0\n",
    "    for i in range(len(fpr_tpr_list)-1):\n",
    "        fpr_0 = fpr_tpr_list[i][0]\n",
    "        tpr_0 = fpr_tpr_list[i][1]\n",
    "        \n",
    "        fpr_1 = fpr_tpr_list[i+1][0]\n",
    "        tpr_1 = fpr_tpr_list[i+1][1]\n",
    "        \n",
    "        if fpr_0 == fpr_1:\n",
    "            continue\n",
    "        else:\n",
    "            a = (fpr_0 - fpr_1)*(0.5)*(tpr_0 + tpr_1)\n",
    "            total_area += a\n",
    "    return total_area\n",
    "        "
   ]
  },
  {
   "cell_type": "code",
   "execution_count": 98,
   "id": "68f679b4-10f7-41d3-808a-8dbbf12a6715",
   "metadata": {},
   "outputs": [
    {
     "data": {
      "text/plain": [
       "0.6435615000000001"
      ]
     },
     "execution_count": 98,
     "metadata": {},
     "output_type": "execute_result"
    }
   ],
   "source": [
    "calc_auc_area(near_TP_FP_list[5:33])"
   ]
  },
  {
   "cell_type": "code",
   "execution_count": 106,
   "id": "64dade2b-caa7-4a80-8133-84e210503d43",
   "metadata": {},
   "outputs": [
    {
     "data": {
      "text/plain": [
       "0.9192729999999999"
      ]
     },
     "execution_count": 106,
     "metadata": {},
     "output_type": "execute_result"
    }
   ],
   "source": [
    "calc_auc_area(far_TP_FP_list[5:31])"
   ]
  },
  {
   "cell_type": "code",
   "execution_count": 101,
   "id": "203b7609-d1b5-4bfb-9ba5-522cafa932e8",
   "metadata": {},
   "outputs": [],
   "source": [
    "# near_TP_FP_list"
   ]
  },
  {
   "cell_type": "code",
   "execution_count": null,
   "id": "57a4108a-cebb-404f-ad25-31d93eae3488",
   "metadata": {},
   "outputs": [],
   "source": []
  }
 ],
 "metadata": {
  "kernelspec": {
   "display_name": "Python 3 (ipykernel)",
   "language": "python",
   "name": "python3"
  },
  "language_info": {
   "codemirror_mode": {
    "name": "ipython",
    "version": 3
   },
   "file_extension": ".py",
   "mimetype": "text/x-python",
   "name": "python",
   "nbconvert_exporter": "python",
   "pygments_lexer": "ipython3",
   "version": "3.9.7"
  }
 },
 "nbformat": 4,
 "nbformat_minor": 5
}
